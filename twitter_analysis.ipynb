{
 "cells": [
  {
   "cell_type": "markdown",
   "metadata": {},
   "source": [
    "# Parkrun twitter analysis"
   ]
  },
  {
   "cell_type": "markdown",
   "metadata": {},
   "source": [
    "Jenny Woods April 2020\n",
    "\n",
    "Code to carry out simple natural language processing (NLP) on tweets with #parkrun hashtag.\n",
    "\n",
    "Using *tweepy* to grab tweets and *spaCy* and *NLTK* for NLP.\n",
    "\n",
    "\n",
    "... Sentiment analysis to follow!"
   ]
  },
  {
   "cell_type": "markdown",
   "metadata": {},
   "source": [
    "#### Import libraries"
   ]
  },
  {
   "cell_type": "code",
   "execution_count": 13,
   "metadata": {},
   "outputs": [],
   "source": [
    "import pandas as pd\n",
    "import pickle\n",
    "import json\n",
    "\n",
    "import matplotlib.pyplot as plt\n",
    "%matplotlib inline\n",
    "\n",
    "import tweepy\n",
    "\n",
    "import spacy\n",
    "nlp = spacy.load(\"en_core_web_sm\")\n",
    "import nltk\n",
    "from nltk.stem.snowball import SnowballStemmer\n",
    "stemmer = SnowballStemmer(language='english')\n",
    "import wordsegment\n",
    "wordsegment.load()"
   ]
  },
  {
   "cell_type": "markdown",
   "metadata": {},
   "source": [
    "#### Functions to read and write df to pickle"
   ]
  },
  {
   "cell_type": "code",
   "execution_count": 2,
   "metadata": {},
   "outputs": [],
   "source": [
    "def write_pkl(fname, df):\n",
    "    with open(fname,'wb') as pklf:\n",
    "        pickle.dump((df), pklf)\n",
    "        print('Saved to', fname)\n",
    "        \n",
    "def read_pkl(fname):\n",
    "    with open(fname,'rb') as pklf:\n",
    "        df = pickle.load(pklf)\n",
    "    return df"
   ]
  },
  {
   "cell_type": "markdown",
   "metadata": {},
   "source": [
    "#### Twitter API authentication\n",
    "\n",
    "API authentication keys are required to grab tweets.\n",
    "\n",
    "My twitter developer acc auth details are stored in and extracted from file *twitterAPIauth_keys*"
   ]
  },
  {
   "cell_type": "code",
   "execution_count": 22,
   "metadata": {},
   "outputs": [],
   "source": [
    "with open('../twitterAPIauth_keys', 'r') as f:\n",
    "    twitterAPIauth_keys = json.load(f)\n",
    "    \n",
    "consumer_key = twitterAPIauth_keys['consumer_key']\n",
    "consumer_secret = twitterAPIauth_keys['consumer_secret']\n",
    "access_token = twitterAPIauth_keys['access_token']\n",
    "access_token_secret = twitterAPIauth_keys['access_token_secret']\n",
    "\n",
    "auth = tweepy.OAuthHandler(consumer_key, consumer_secret)\n",
    "auth.set_access_token(access_token, access_token_secret)\n",
    "api = tweepy.API(auth,wait_on_rate_limit=True)"
   ]
  },
  {
   "cell_type": "markdown",
   "metadata": {},
   "source": [
    "#### Function to clean tweet text"
   ]
  },
  {
   "cell_type": "code",
   "execution_count": 23,
   "metadata": {},
   "outputs": [],
   "source": [
    "def clean_tweet_(text):\n",
    "    text = text.encode('ascii',errors='ignore').decode('UTF-8') # remove symbols, decode (remove b')\n",
    "    text = text.lower().strip('\\n') # make lowercase, remove newlines\n",
    "    text = text.replace('&amp;', 'and') # remove &amp;\n",
    "    return text"
   ]
  },
  {
   "cell_type": "markdown",
   "metadata": {},
   "source": [
    "## Tweets with #parkrun hashtag\n",
    "\n",
    "Using tweepy api.search here. See http://docs.tweepy.org/en/latest/api.html for other tweepy classes. Eg to grab home timeline, use api.home_timeline:\n",
    "\n",
    "        for tweet in api.home_timeline() :\n",
    "            print(tweet.text)\n",
    "\n",
    "\n",
    "### Grab tweets and write dataframe to pickle\n",
    "\n",
    "This grabs tweets **in the last week** - if *sincedate* is set to further in the past, be aware that for popular hashtags this will result in a large number of tweets and the dataframe may require a large amount of memory!"
   ]
  },
  {
   "cell_type": "code",
   "execution_count": 35,
   "metadata": {},
   "outputs": [
    {
     "name": "stdout",
     "output_type": "stream",
     "text": [
      "Saved to parkrun_tweets_2020-04-06_to_2020-04-13.pkl\n"
     ]
    }
   ],
   "source": [
    "today = pd.Timestamp.today().date()\n",
    "sincedate = today-pd.Timedelta(7, 'day') # move since date to 7 days ago\n",
    "\n",
    "tweets=[]\n",
    "for tweet in tweepy.Cursor(api.search,\n",
    "                           q=\"#parkrun\",\n",
    "                           tweet_mode='extended',\n",
    "                           lang=\"en\",\n",
    "                           since=sincedate).items():\n",
    "\n",
    "    #print(tweet) # view full tweet to explore other attributes\n",
    "\n",
    "    try :\n",
    "        text = str(tweet.retweeted_status.full_text)\n",
    "        tweet_type = 'Retweet'\n",
    "    except AttributeError:\n",
    "        text = str(tweet.full_text)\n",
    "        tweet_type = 'Tweet'\n",
    "        \n",
    "    text = clean_tweet_(text)\n",
    "        \n",
    "    try :\n",
    "        location = tweet.place.name+', '+tweet.place.country\n",
    "    except:\n",
    "        location = ''      \n",
    "    \n",
    "    tweets.append({\"datetime\": tweet.created_at,\n",
    "                   #\"id\": tweet.id,\n",
    "                   \"location\": location,\n",
    "                   \"text\": text,\n",
    "                   \"tweet_type\": tweet_type,\n",
    "                   \"user_handle\": tweet.user.screen_name,\n",
    "                   #\"user_id\": tweet.user.id,\n",
    "                   \"user_location\": tweet.user.location,\n",
    "                  })\n",
    "\n",
    "tweets_df = pd.DataFrame(tweets)\n",
    "\n",
    "fname = 'parkrun_tweets_'+str(sincedate)+'_to_'+str(today)+'.pkl'\n",
    "write_pkl(fname, tweets_df)"
   ]
  },
  {
   "cell_type": "markdown",
   "metadata": {},
   "source": [
    "### OR, read tweets from pickle"
   ]
  },
  {
   "cell_type": "code",
   "execution_count": 38,
   "metadata": {},
   "outputs": [
    {
     "data": {
      "text/html": [
       "<div>\n",
       "<style scoped>\n",
       "    .dataframe tbody tr th:only-of-type {\n",
       "        vertical-align: middle;\n",
       "    }\n",
       "\n",
       "    .dataframe tbody tr th {\n",
       "        vertical-align: top;\n",
       "    }\n",
       "\n",
       "    .dataframe thead th {\n",
       "        text-align: right;\n",
       "    }\n",
       "</style>\n",
       "<table border=\"1\" class=\"dataframe\">\n",
       "  <thead>\n",
       "    <tr style=\"text-align: right;\">\n",
       "      <th></th>\n",
       "      <th>datetime</th>\n",
       "      <th>location</th>\n",
       "      <th>text</th>\n",
       "      <th>tweet_type</th>\n",
       "      <th>user_handle</th>\n",
       "      <th>user_location</th>\n",
       "    </tr>\n",
       "  </thead>\n",
       "  <tbody>\n",
       "    <tr>\n",
       "      <th>0</th>\n",
       "      <td>2020-04-13 14:48:29</td>\n",
       "      <td></td>\n",
       "      <td>the lockdown at least means the #parkrun #poet...</td>\n",
       "      <td>Retweet</td>\n",
       "      <td>TimGardiner3</td>\n",
       "      <td>Manningtree, England</td>\n",
       "    </tr>\n",
       "    <tr>\n",
       "      <th>1</th>\n",
       "      <td>2020-04-13 14:47:35</td>\n",
       "      <td></td>\n",
       "      <td>the lockdown at least means the #parkrun #poet...</td>\n",
       "      <td>Tweet</td>\n",
       "      <td>parkrunpoetry</td>\n",
       "      <td>Manningtree, England</td>\n",
       "    </tr>\n",
       "    <tr>\n",
       "      <th>2</th>\n",
       "      <td>2020-04-13 14:35:45</td>\n",
       "      <td></td>\n",
       "      <td>back garden / back years parkrun, 5k challenge...</td>\n",
       "      <td>Tweet</td>\n",
       "      <td>tonyjamesrun</td>\n",
       "      <td>North West, England</td>\n",
       "    </tr>\n",
       "    <tr>\n",
       "      <th>3</th>\n",
       "      <td>2020-04-13 13:46:13</td>\n",
       "      <td></td>\n",
       "      <td>@parkrunuk time to issue some 'motivational' #...</td>\n",
       "      <td>Tweet</td>\n",
       "      <td>sgallacher65</td>\n",
       "      <td>London</td>\n",
       "    </tr>\n",
       "    <tr>\n",
       "      <th>4</th>\n",
       "      <td>2020-04-13 13:45:56</td>\n",
       "      <td></td>\n",
       "      <td>well get through this together\\npersonalise yo...</td>\n",
       "      <td>Retweet</td>\n",
       "      <td>NickPearsonRuns</td>\n",
       "      <td>Shepperton</td>\n",
       "    </tr>\n",
       "    <tr>\n",
       "      <th>5</th>\n",
       "      <td>2020-04-13 13:14:56</td>\n",
       "      <td></td>\n",
       "      <td>well get through this together\\npersonalise yo...</td>\n",
       "      <td>Retweet</td>\n",
       "      <td>serimalbpickles</td>\n",
       "      <td>Wales</td>\n",
       "    </tr>\n",
       "    <tr>\n",
       "      <th>6</th>\n",
       "      <td>2020-04-13 13:00:10</td>\n",
       "      <td></td>\n",
       "      <td>@daviddidau #parkrun is the next thing once co...</td>\n",
       "      <td>Tweet</td>\n",
       "      <td>AndyRobertW</td>\n",
       "      <td></td>\n",
       "    </tr>\n",
       "    <tr>\n",
       "      <th>7</th>\n",
       "      <td>2020-04-13 12:48:55</td>\n",
       "      <td></td>\n",
       "      <td>@pmsh405 @ukrunchat @parkrunuk @lincolnparkrun...</td>\n",
       "      <td>Tweet</td>\n",
       "      <td>DawnThomas2311</td>\n",
       "      <td>Lincoln, England</td>\n",
       "    </tr>\n",
       "    <tr>\n",
       "      <th>8</th>\n",
       "      <td>2020-04-13 12:45:09</td>\n",
       "      <td></td>\n",
       "      <td>@paulteagueuk i'm making that a goal - doing m...</td>\n",
       "      <td>Tweet</td>\n",
       "      <td>wood_beez48</td>\n",
       "      <td>UK, Europe 🇪🇺</td>\n",
       "    </tr>\n",
       "    <tr>\n",
       "      <th>9</th>\n",
       "      <td>2020-04-13 12:34:25</td>\n",
       "      <td></td>\n",
       "      <td>well get through this together\\npersonalise yo...</td>\n",
       "      <td>Retweet</td>\n",
       "      <td>oliclarke68</td>\n",
       "      <td></td>\n",
       "    </tr>\n",
       "  </tbody>\n",
       "</table>\n",
       "</div>"
      ],
      "text/plain": [
       "             datetime location  \\\n",
       "0 2020-04-13 14:48:29            \n",
       "1 2020-04-13 14:47:35            \n",
       "2 2020-04-13 14:35:45            \n",
       "3 2020-04-13 13:46:13            \n",
       "4 2020-04-13 13:45:56            \n",
       "5 2020-04-13 13:14:56            \n",
       "6 2020-04-13 13:00:10            \n",
       "7 2020-04-13 12:48:55            \n",
       "8 2020-04-13 12:45:09            \n",
       "9 2020-04-13 12:34:25            \n",
       "\n",
       "                                                text tweet_type  \\\n",
       "0  the lockdown at least means the #parkrun #poet...    Retweet   \n",
       "1  the lockdown at least means the #parkrun #poet...      Tweet   \n",
       "2  back garden / back years parkrun, 5k challenge...      Tweet   \n",
       "3  @parkrunuk time to issue some 'motivational' #...      Tweet   \n",
       "4  well get through this together\\npersonalise yo...    Retweet   \n",
       "5  well get through this together\\npersonalise yo...    Retweet   \n",
       "6  @daviddidau #parkrun is the next thing once co...      Tweet   \n",
       "7  @pmsh405 @ukrunchat @parkrunuk @lincolnparkrun...      Tweet   \n",
       "8  @paulteagueuk i'm making that a goal - doing m...      Tweet   \n",
       "9  well get through this together\\npersonalise yo...    Retweet   \n",
       "\n",
       "       user_handle         user_location  \n",
       "0     TimGardiner3  Manningtree, England  \n",
       "1    parkrunpoetry  Manningtree, England  \n",
       "2     tonyjamesrun   North West, England  \n",
       "3     sgallacher65                London  \n",
       "4  NickPearsonRuns            Shepperton  \n",
       "5  serimalbpickles                 Wales  \n",
       "6      AndyRobertW                        \n",
       "7   DawnThomas2311      Lincoln, England  \n",
       "8      wood_beez48         UK, Europe 🇪🇺  \n",
       "9      oliclarke68                        "
      ]
     },
     "execution_count": 38,
     "metadata": {},
     "output_type": "execute_result"
    }
   ],
   "source": [
    "fname = 'parkrun_tweets_2020-04-06_to_2020-04-13.pkl'\n",
    "\n",
    "tweets_df = read_pkl(fname)\n",
    "tweets_df.head(10)"
   ]
  },
  {
   "cell_type": "markdown",
   "metadata": {},
   "source": [
    "## Natural language processing"
   ]
  },
  {
   "cell_type": "markdown",
   "metadata": {},
   "source": [
    "#### Take a look at some tweet content"
   ]
  },
  {
   "cell_type": "code",
   "execution_count": 39,
   "metadata": {},
   "outputs": [
    {
     "name": "stdout",
     "output_type": "stream",
     "text": [
      "well get through this together\n",
      "personalise your new @parkrun apricot tee with a message of your choice! what will yours be?\n",
      "\n",
      "shop the whole collection at https://t.co/gvbnx1apv3 and we'll deliver to your door\n",
      "\n",
      "#parkrun #loveparkrun #parkrunuk #prodirectrunning @parkrunuk https://t.co/zhmjdk6wyi\n",
      "@daviddidau #parkrun is the next thing once covid 19 has done one!\n",
      "@pmsh405 @ukrunchat @parkrunuk @lincolnparkrun @ulht_news @ulht_maternity thank you. day 11 of isolation so had time on my hands . miss #parkrun so much\n"
     ]
    }
   ],
   "source": [
    "for i in range(5,8):\n",
    "    print(tweets_df['text'].iloc[i])"
   ]
  },
  {
   "cell_type": "markdown",
   "metadata": {},
   "source": [
    "#### Function to do the processing\n",
    "\n",
    "Using spaCy, wordsegment and - if stemming - nltk\n",
    "\n",
    "* **Segment hashtags and twitter handles**\n",
    "\n",
    "* **Remove special characters, punctuation, spaces, integer tokens and web addresses**\n",
    "\n",
    "* **Lemmatize** (group together inflected forms of a word so they can be analysed as a single item)\n",
    "\n",
    "* **Remove stopwords** (eg is, the, a - so that more focus can be given to those words which define the meaning of the text)\n",
    "\n",
    "* *Stem (reduce words to root form)*"
   ]
  },
  {
   "cell_type": "code",
   "execution_count": 69,
   "metadata": {},
   "outputs": [],
   "source": [
    "def preprocess_(text):\n",
    "    \n",
    "    firstfilt=[]\n",
    "    for word in text.split():\n",
    "        # separate handles and hashtags into individual words (and in doing so remove #/@)\n",
    "        if word[0:1] == '#' or word[0:1] == '@' :\n",
    "            firstfilt.append(' '.join(wordsegment.segment(word)))\n",
    "        else :\n",
    "            # ignore web addresses (or at least those beginning http or www)\n",
    "            if word[0:4] != 'http' and word[0:4] != 'www' :\n",
    "                firstfilt.append(word)\n",
    "    text = ' '.join(firstfilt)\n",
    "    \n",
    "    doc = nlp(text)  # Using spaCy\n",
    "    tokens = []\n",
    "    filtered_tokens = []\n",
    "    \n",
    "    for token in doc:\n",
    "        if not token.is_punct | token.is_space : # ignore punctuation and spaces\n",
    "            \n",
    "            # LEMMATIZE\n",
    "            tokens.append(token.lemma_ if token.lemma_ != '-PRON-' else token.lower_)\n",
    "\n",
    "    for token in tokens:\n",
    "        try :\n",
    "            int(token) # ignore integer tokens\n",
    "        except :\n",
    "            lexeme = nlp.vocab[token]\n",
    "            if lexeme.is_stop == False and token[0:4] : # ignore STOPWORDS\n",
    "                if token[0:4] != 'http' and token[0:4] != 'www' : # ignore web addresses\n",
    "                    filtered_tokens.append(token)\n",
    "                    #filtered_tokens.append(stemmer.stem(token)) # Take stem of words using nltk\n",
    "\n",
    "    return filtered_tokens"
   ]
  },
  {
   "cell_type": "markdown",
   "metadata": {},
   "source": [
    "Example of processing a tweet"
   ]
  },
  {
   "cell_type": "code",
   "execution_count": 72,
   "metadata": {},
   "outputs": [
    {
     "name": "stdout",
     "output_type": "stream",
     "text": [
      "BEFORE preprocessing:\n",
      "================\n",
      "\n",
      "the lockdown at least means the #parkrun #poetry #book 'glade runner' will be published by stour valley press run by dynamo @locomountaineer foreword by @nicolaforwood motivational words from @yiannis_83 essentially a big thank you for the work @paulsintonhewit @parkrunuk https://t.co/n3gljj8adc \n",
      "\n",
      "AFTER preprocessing:\n",
      "================\n",
      "\n",
      "lockdown mean park run poetry book glade runner publish stour valley press run dynamo loco mountaineer foreword nicola wood motivational word yiannis83 essentially big thank work paul sinton hewit park run uk\n"
     ]
    }
   ],
   "source": [
    "text = tweets_df['text'].iloc[0]\n",
    "print('BEFORE preprocessing:\\n================\\n')\n",
    "print(text,'\\n')\n",
    "\n",
    "filtered_tokens = preprocess_(text)\n",
    "print('AFTER preprocessing:\\n================\\n')\n",
    "print(' '.join(filtered_tokens))"
   ]
  },
  {
   "cell_type": "markdown",
   "metadata": {},
   "source": [
    "### Process all the tweets"
   ]
  },
  {
   "cell_type": "code",
   "execution_count": 76,
   "metadata": {},
   "outputs": [
    {
     "data": {
      "text/html": [
       "<div>\n",
       "<style scoped>\n",
       "    .dataframe tbody tr th:only-of-type {\n",
       "        vertical-align: middle;\n",
       "    }\n",
       "\n",
       "    .dataframe tbody tr th {\n",
       "        vertical-align: top;\n",
       "    }\n",
       "\n",
       "    .dataframe thead th {\n",
       "        text-align: right;\n",
       "    }\n",
       "</style>\n",
       "<table border=\"1\" class=\"dataframe\">\n",
       "  <thead>\n",
       "    <tr style=\"text-align: right;\">\n",
       "      <th></th>\n",
       "      <th>datetime</th>\n",
       "      <th>location</th>\n",
       "      <th>text</th>\n",
       "      <th>tweet_type</th>\n",
       "      <th>user_handle</th>\n",
       "      <th>user_location</th>\n",
       "      <th>processed text</th>\n",
       "    </tr>\n",
       "  </thead>\n",
       "  <tbody>\n",
       "    <tr>\n",
       "      <th>0</th>\n",
       "      <td>2020-04-13 14:48:29</td>\n",
       "      <td></td>\n",
       "      <td>the lockdown at least means the #parkrun #poet...</td>\n",
       "      <td>Retweet</td>\n",
       "      <td>TimGardiner3</td>\n",
       "      <td>Manningtree, England</td>\n",
       "      <td>[lockdown, mean, park, run, poetry, book, glad...</td>\n",
       "    </tr>\n",
       "    <tr>\n",
       "      <th>1</th>\n",
       "      <td>2020-04-13 14:47:35</td>\n",
       "      <td></td>\n",
       "      <td>the lockdown at least means the #parkrun #poet...</td>\n",
       "      <td>Tweet</td>\n",
       "      <td>parkrunpoetry</td>\n",
       "      <td>Manningtree, England</td>\n",
       "      <td>[lockdown, mean, park, run, poetry, book, glad...</td>\n",
       "    </tr>\n",
       "    <tr>\n",
       "      <th>2</th>\n",
       "      <td>2020-04-13 14:35:45</td>\n",
       "      <td></td>\n",
       "      <td>back garden / back years parkrun, 5k challenge...</td>\n",
       "      <td>Tweet</td>\n",
       "      <td>tonyjamesrun</td>\n",
       "      <td>North West, England</td>\n",
       "      <td>[garden, year, parkrun, 5k, challenge, time, c...</td>\n",
       "    </tr>\n",
       "    <tr>\n",
       "      <th>3</th>\n",
       "      <td>2020-04-13 13:46:13</td>\n",
       "      <td></td>\n",
       "      <td>@parkrunuk time to issue some 'motivational' #...</td>\n",
       "      <td>Tweet</td>\n",
       "      <td>sgallacher65</td>\n",
       "      <td>London</td>\n",
       "      <td>[park, run, uk, time, issue, motivational, par...</td>\n",
       "    </tr>\n",
       "    <tr>\n",
       "      <th>4</th>\n",
       "      <td>2020-04-13 13:45:56</td>\n",
       "      <td></td>\n",
       "      <td>well get through this together\\npersonalise yo...</td>\n",
       "      <td>Retweet</td>\n",
       "      <td>NickPearsonRuns</td>\n",
       "      <td>Shepperton</td>\n",
       "      <td>[personalise, new, park, run, apricot, tee, me...</td>\n",
       "    </tr>\n",
       "    <tr>\n",
       "      <th>5</th>\n",
       "      <td>2020-04-13 13:14:56</td>\n",
       "      <td></td>\n",
       "      <td>well get through this together\\npersonalise yo...</td>\n",
       "      <td>Retweet</td>\n",
       "      <td>serimalbpickles</td>\n",
       "      <td>Wales</td>\n",
       "      <td>[personalise, new, park, run, apricot, tee, me...</td>\n",
       "    </tr>\n",
       "    <tr>\n",
       "      <th>6</th>\n",
       "      <td>2020-04-13 13:00:10</td>\n",
       "      <td></td>\n",
       "      <td>@daviddidau #parkrun is the next thing once co...</td>\n",
       "      <td>Tweet</td>\n",
       "      <td>AndyRobertW</td>\n",
       "      <td></td>\n",
       "      <td>[david, au, park, run, thing, covid]</td>\n",
       "    </tr>\n",
       "    <tr>\n",
       "      <th>7</th>\n",
       "      <td>2020-04-13 12:48:55</td>\n",
       "      <td></td>\n",
       "      <td>@pmsh405 @ukrunchat @parkrunuk @lincolnparkrun...</td>\n",
       "      <td>Tweet</td>\n",
       "      <td>DawnThomas2311</td>\n",
       "      <td>Lincoln, England</td>\n",
       "      <td>[pmsh405, uk, run, chat, park, run, uk, lincol...</td>\n",
       "    </tr>\n",
       "    <tr>\n",
       "      <th>8</th>\n",
       "      <td>2020-04-13 12:45:09</td>\n",
       "      <td></td>\n",
       "      <td>@paulteagueuk i'm making that a goal - doing m...</td>\n",
       "      <td>Tweet</td>\n",
       "      <td>wood_beez48</td>\n",
       "      <td>UK, Europe 🇪🇺</td>\n",
       "      <td>[paul, teague, uk, goal, park, run]</td>\n",
       "    </tr>\n",
       "    <tr>\n",
       "      <th>9</th>\n",
       "      <td>2020-04-13 12:34:25</td>\n",
       "      <td></td>\n",
       "      <td>well get through this together\\npersonalise yo...</td>\n",
       "      <td>Retweet</td>\n",
       "      <td>oliclarke68</td>\n",
       "      <td></td>\n",
       "      <td>[personalise, new, park, run, apricot, tee, me...</td>\n",
       "    </tr>\n",
       "  </tbody>\n",
       "</table>\n",
       "</div>"
      ],
      "text/plain": [
       "             datetime location  \\\n",
       "0 2020-04-13 14:48:29            \n",
       "1 2020-04-13 14:47:35            \n",
       "2 2020-04-13 14:35:45            \n",
       "3 2020-04-13 13:46:13            \n",
       "4 2020-04-13 13:45:56            \n",
       "5 2020-04-13 13:14:56            \n",
       "6 2020-04-13 13:00:10            \n",
       "7 2020-04-13 12:48:55            \n",
       "8 2020-04-13 12:45:09            \n",
       "9 2020-04-13 12:34:25            \n",
       "\n",
       "                                                text tweet_type  \\\n",
       "0  the lockdown at least means the #parkrun #poet...    Retweet   \n",
       "1  the lockdown at least means the #parkrun #poet...      Tweet   \n",
       "2  back garden / back years parkrun, 5k challenge...      Tweet   \n",
       "3  @parkrunuk time to issue some 'motivational' #...      Tweet   \n",
       "4  well get through this together\\npersonalise yo...    Retweet   \n",
       "5  well get through this together\\npersonalise yo...    Retweet   \n",
       "6  @daviddidau #parkrun is the next thing once co...      Tweet   \n",
       "7  @pmsh405 @ukrunchat @parkrunuk @lincolnparkrun...      Tweet   \n",
       "8  @paulteagueuk i'm making that a goal - doing m...      Tweet   \n",
       "9  well get through this together\\npersonalise yo...    Retweet   \n",
       "\n",
       "       user_handle         user_location  \\\n",
       "0     TimGardiner3  Manningtree, England   \n",
       "1    parkrunpoetry  Manningtree, England   \n",
       "2     tonyjamesrun   North West, England   \n",
       "3     sgallacher65                London   \n",
       "4  NickPearsonRuns            Shepperton   \n",
       "5  serimalbpickles                 Wales   \n",
       "6      AndyRobertW                         \n",
       "7   DawnThomas2311      Lincoln, England   \n",
       "8      wood_beez48         UK, Europe 🇪🇺   \n",
       "9      oliclarke68                         \n",
       "\n",
       "                                      processed text  \n",
       "0  [lockdown, mean, park, run, poetry, book, glad...  \n",
       "1  [lockdown, mean, park, run, poetry, book, glad...  \n",
       "2  [garden, year, parkrun, 5k, challenge, time, c...  \n",
       "3  [park, run, uk, time, issue, motivational, par...  \n",
       "4  [personalise, new, park, run, apricot, tee, me...  \n",
       "5  [personalise, new, park, run, apricot, tee, me...  \n",
       "6               [david, au, park, run, thing, covid]  \n",
       "7  [pmsh405, uk, run, chat, park, run, uk, lincol...  \n",
       "8                [paul, teague, uk, goal, park, run]  \n",
       "9  [personalise, new, park, run, apricot, tee, me...  "
      ]
     },
     "execution_count": 76,
     "metadata": {},
     "output_type": "execute_result"
    }
   ],
   "source": [
    "tweets_df['processed text'] = tweets_df['text'].apply(lambda x: preprocess_(x))\n",
    "tweets_df.head(10)"
   ]
  },
  {
   "cell_type": "markdown",
   "metadata": {},
   "source": [
    "### Take a look at simple word frequency distribution"
   ]
  },
  {
   "cell_type": "code",
   "execution_count": 129,
   "metadata": {},
   "outputs": [
    {
     "data": {
      "image/png": "[encoded data removed]",
      "text/plain": [
       "<Figure size 576x432 with 1 Axes>"
      ]
     },
     "metadata": {
      "needs_background": "light"
     },
     "output_type": "display_data"
    }
   ],
   "source": [
    "# concatonate words from all tweets\n",
    "alltokens = [token for row in tweets_df['processed text'] for token in row]\n",
    "alltokens = pd.Series(alltokens)\n",
    "\n",
    "# remove strings 'park', 'run', 'parkrun' and 'uk' - we know these are popular!\n",
    "alltokens = alltokens[(alltokens != 'park') & (alltokens != 'run') & (alltokens != 'parkrun') & (alltokens != 'uk')]\n",
    "\n",
    "freq = nltk.FreqDist(alltokens.values)\n",
    "plt.figure(figsize=(8, 6))\n",
    "freq.plot(10, cumulative=False, title='Top 10 words in #parkrun tweets')\n",
    "plt.show()"
   ]
  },
  {
   "cell_type": "code",
   "execution_count": null,
   "metadata": {},
   "outputs": [],
   "source": []
  }
 ],
 "metadata": {
  "kernelspec": {
   "display_name": "Python 3",
   "language": "python",
   "name": "python3"
  },
  "language_info": {
   "codemirror_mode": {
    "name": "ipython",
    "version": 3
   },
   "file_extension": ".py",
   "mimetype": "text/x-python",
   "name": "python",
   "nbconvert_exporter": "python",
   "pygments_lexer": "ipython3",
   "version": "3.7.3"
  }
 },
 "nbformat": 4,
 "nbformat_minor": 2
}
