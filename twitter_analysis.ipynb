{
 "cells": [
  {
   "cell_type": "markdown",
   "metadata": {},
   "source": [
    "# Parkrun twitter analysis"
   ]
  },
  {
   "cell_type": "markdown",
   "metadata": {},
   "source": [
    "Jenny Woods May 2020\n",
    "\n",
    "Code to carry out natural language processing (NLP) and topic modelling on tweets with #parkrun hashtag.\n",
    "\n",
    "Using *tweepy* to grab tweets, *spaCy* and *NLTK* for NLP, and *gensim*'s LDA (Latent Dirichlet Allocation) model for topic modelling."
   ]
  },
  {
   "cell_type": "markdown",
   "metadata": {},
   "source": [
    "#### Import libraries"
   ]
  },
  {
   "cell_type": "code",
   "execution_count": 47,
   "metadata": {},
   "outputs": [],
   "source": [
    "import pandas as pd\n",
    "import numpy as np\n",
    "import pickle\n",
    "import json\n",
    "\n",
    "import matplotlib.pyplot as plt\n",
    "%matplotlib inline\n",
    "\n",
    "import tweepy\n",
    "\n",
    "import re\n",
    "import spacy\n",
    "nlp = spacy.load(\"en_core_web_sm\")\n",
    "import nltk\n",
    "#nltk.download()\n",
    "nltk.data.path = ['/home/jenny/sw/nltk_data']\n",
    "from nltk.stem.snowball import SnowballStemmer\n",
    "stemmer = SnowballStemmer(language='english')\n",
    "import wordsegment\n",
    "wordsegment.load()\n",
    "import gensim\n",
    "\n",
    "import multiprocessing as mp"
   ]
  },
  {
   "cell_type": "markdown",
   "metadata": {},
   "source": [
    "#### Functions to read and write df to pickle"
   ]
  },
  {
   "cell_type": "code",
   "execution_count": 48,
   "metadata": {},
   "outputs": [],
   "source": [
    "def write_pkl(fname, df):\n",
    "    with open(fname,'wb') as pklf:\n",
    "        pickle.dump((df), pklf)\n",
    "        print('Saved to', fname)\n",
    "        \n",
    "def read_pkl(fname):\n",
    "    with open(fname,'rb') as pklf:\n",
    "        df = pickle.load(pklf)\n",
    "    return df"
   ]
  },
  {
   "cell_type": "markdown",
   "metadata": {},
   "source": [
    "#### Twitter API authentication\n",
    "\n",
    "API authentication keys are required to grab tweets.\n",
    "\n",
    "My twitter developer acc auth details are stored in and extracted from file *twitterAPIauth_keys*"
   ]
  },
  {
   "cell_type": "code",
   "execution_count": 49,
   "metadata": {},
   "outputs": [],
   "source": [
    "with open('../twitterAPIauth_keys', 'r') as f:\n",
    "    twitterAPIauth_keys = json.load(f)\n",
    "    \n",
    "consumer_key = twitterAPIauth_keys['consumer_key']\n",
    "consumer_secret = twitterAPIauth_keys['consumer_secret']\n",
    "access_token = twitterAPIauth_keys['access_token']\n",
    "access_token_secret = twitterAPIauth_keys['access_token_secret']\n",
    "\n",
    "auth = tweepy.OAuthHandler(consumer_key, consumer_secret)\n",
    "auth.set_access_token(access_token, access_token_secret)\n",
    "api = tweepy.API(auth,wait_on_rate_limit=True)"
   ]
  },
  {
   "cell_type": "markdown",
   "metadata": {},
   "source": [
    "## Tweets with #parkrun hashtag\n",
    "\n",
    "Using tweepy api.search here. See http://docs.tweepy.org/en/latest/api.html for other tweepy classes. Eg to grab home timeline, use api.home_timeline:\n",
    "\n",
    "        for tweet in api.home_timeline() :\n",
    "            print(tweet.text)\n",
    "\n",
    "\n",
    "### Grab tweets and write dataframe to pickle\n",
    "\n",
    "api.search grabs tweets in the last 6-9 days - premium search APIs *or* known tweet IDs required for grabbing tweets further back in time"
   ]
  },
  {
   "cell_type": "code",
   "execution_count": 50,
   "metadata": {},
   "outputs": [
    {
     "name": "stdout",
     "output_type": "stream",
     "text": [
      "605 tweets grabbed\n",
      "\n",
      "Saved to data/parkrun_tweets_downloaded2020-05-09.pkl\n"
     ]
    }
   ],
   "source": [
    "today = pd.Timestamp.today().date()\n",
    "\n",
    "tweets=[]\n",
    "for tweet in tweepy.Cursor(api.search,\n",
    "                           q=\"#parkrun\",\n",
    "                           tweet_mode='extended',\n",
    "                           lang=\"en\").items():\n",
    "\n",
    "    #print(tweet) # view full tweet to explore other attributes\n",
    "\n",
    "    try :\n",
    "        text = str(tweet.retweeted_status.full_text)\n",
    "        tweet_type = 'Retweet'\n",
    "    except AttributeError:\n",
    "        text = str(tweet.full_text)\n",
    "        tweet_type = 'Tweet'\n",
    "\n",
    "    # Decode and remove symbols\n",
    "    text = text.encode('ascii',errors='ignore').decode('UTF-8')\n",
    "    text = text.replace('&amp;', 'and') # remove &amp;\n",
    "        \n",
    "    try :\n",
    "        location = tweet.place.name+', '+tweet.place.country\n",
    "    except:\n",
    "        location = ''      \n",
    "    \n",
    "    tweets.append({\"datetime\": tweet.created_at,\n",
    "                   #\"id\": tweet.id,\n",
    "                   \"location\": location,\n",
    "                   \"text\": text,\n",
    "                   \"tweet_type\": tweet_type,\n",
    "                   \"user_handle\": tweet.user.screen_name,\n",
    "                   #\"user_id\": tweet.user.id,\n",
    "                   \"user_location\": tweet.user.location,\n",
    "                  })\n",
    "\n",
    "tweets_df = pd.DataFrame(tweets)\n",
    "print(len(tweets_df),'tweets grabbed\\n')\n",
    "\n",
    "fname = 'parkrun_tweets_downloaded'+str(today)+'.pkl'\n",
    "write_pkl('data/'+fname, tweets_df)"
   ]
  },
  {
   "cell_type": "markdown",
   "metadata": {},
   "source": [
    "### OR, read tweets from pickle"
   ]
  },
  {
   "cell_type": "code",
   "execution_count": 51,
   "metadata": {},
   "outputs": [
    {
     "data": {
      "text/html": [
       "<div>\n",
       "<style scoped>\n",
       "    .dataframe tbody tr th:only-of-type {\n",
       "        vertical-align: middle;\n",
       "    }\n",
       "\n",
       "    .dataframe tbody tr th {\n",
       "        vertical-align: top;\n",
       "    }\n",
       "\n",
       "    .dataframe thead th {\n",
       "        text-align: right;\n",
       "    }\n",
       "</style>\n",
       "<table border=\"1\" class=\"dataframe\">\n",
       "  <thead>\n",
       "    <tr style=\"text-align: right;\">\n",
       "      <th></th>\n",
       "      <th>datetime</th>\n",
       "      <th>location</th>\n",
       "      <th>text</th>\n",
       "      <th>tweet_type</th>\n",
       "      <th>user_handle</th>\n",
       "      <th>user_location</th>\n",
       "    </tr>\n",
       "  </thead>\n",
       "  <tbody>\n",
       "    <tr>\n",
       "      <th>0</th>\n",
       "      <td>2020-05-09 17:55:25</td>\n",
       "      <td></td>\n",
       "      <td>Not your everyday running obstruction  #tonyja...</td>\n",
       "      <td>Tweet</td>\n",
       "      <td>tonyjamesrun</td>\n",
       "      <td>North West, England</td>\n",
       "    </tr>\n",
       "    <tr>\n",
       "      <th>1</th>\n",
       "      <td>2020-05-09 17:53:50</td>\n",
       "      <td></td>\n",
       "      <td>Missing #parkrun but now that we can go out 6-...</td>\n",
       "      <td>Tweet</td>\n",
       "      <td>Diane80499280</td>\n",
       "      <td>South Africa</td>\n",
       "    </tr>\n",
       "    <tr>\n",
       "      <th>2</th>\n",
       "      <td>2020-05-09 17:37:22</td>\n",
       "      <td></td>\n",
       "      <td>Run report and results from virtual non-parkru...</td>\n",
       "      <td>Retweet</td>\n",
       "      <td>mbrosdav</td>\n",
       "      <td></td>\n",
       "    </tr>\n",
       "    <tr>\n",
       "      <th>3</th>\n",
       "      <td>2020-05-09 17:32:35</td>\n",
       "      <td></td>\n",
       "      <td>Run report and results from virtual non-parkru...</td>\n",
       "      <td>Retweet</td>\n",
       "      <td>CountySligo</td>\n",
       "      <td>Co Sligo, Ireland</td>\n",
       "    </tr>\n",
       "    <tr>\n",
       "      <th>4</th>\n",
       "      <td>2020-05-09 17:28:28</td>\n",
       "      <td></td>\n",
       "      <td>Run report and results from virtual non-parkru...</td>\n",
       "      <td>Tweet</td>\n",
       "      <td>sligoparkrun</td>\n",
       "      <td>Sligo, Ireland</td>\n",
       "    </tr>\n",
       "    <tr>\n",
       "      <th>5</th>\n",
       "      <td>2020-05-09 17:25:35</td>\n",
       "      <td></td>\n",
       "      <td>No #parkrun again tomorrow. Have a lie-in, sta...</td>\n",
       "      <td>Retweet</td>\n",
       "      <td>tarynmonks</td>\n",
       "      <td></td>\n",
       "    </tr>\n",
       "    <tr>\n",
       "      <th>6</th>\n",
       "      <td>2020-05-09 17:24:15</td>\n",
       "      <td>Canterbury, United Kingdom</td>\n",
       "      <td>In times like this we need to dig deep within ...</td>\n",
       "      <td>Tweet</td>\n",
       "      <td>Yiannis_83</td>\n",
       "      <td>Canterbury, England</td>\n",
       "    </tr>\n",
       "    <tr>\n",
       "      <th>7</th>\n",
       "      <td>2020-05-09 16:37:33</td>\n",
       "      <td></td>\n",
       "      <td>Love my new #parkrun top even though I wore it...</td>\n",
       "      <td>Tweet</td>\n",
       "      <td>Rlou31752486</td>\n",
       "      <td>England, United Kingdom</td>\n",
       "    </tr>\n",
       "    <tr>\n",
       "      <th>8</th>\n",
       "      <td>2020-05-09 16:36:28</td>\n",
       "      <td></td>\n",
       "      <td>17th run since #lockdown not run for 18 months...</td>\n",
       "      <td>Retweet</td>\n",
       "      <td>andrew_cawood</td>\n",
       "      <td></td>\n",
       "    </tr>\n",
       "    <tr>\n",
       "      <th>9</th>\n",
       "      <td>2020-05-09 16:29:38</td>\n",
       "      <td></td>\n",
       "      <td>Just caught up with @parkrunUKs interview with...</td>\n",
       "      <td>Retweet</td>\n",
       "      <td>tomwilliams1974</td>\n",
       "      <td>Harrogate</td>\n",
       "    </tr>\n",
       "  </tbody>\n",
       "</table>\n",
       "</div>"
      ],
      "text/plain": [
       "             datetime                    location  \\\n",
       "0 2020-05-09 17:55:25                               \n",
       "1 2020-05-09 17:53:50                               \n",
       "2 2020-05-09 17:37:22                               \n",
       "3 2020-05-09 17:32:35                               \n",
       "4 2020-05-09 17:28:28                               \n",
       "5 2020-05-09 17:25:35                               \n",
       "6 2020-05-09 17:24:15  Canterbury, United Kingdom   \n",
       "7 2020-05-09 16:37:33                               \n",
       "8 2020-05-09 16:36:28                               \n",
       "9 2020-05-09 16:29:38                               \n",
       "\n",
       "                                                text tweet_type  \\\n",
       "0  Not your everyday running obstruction  #tonyja...      Tweet   \n",
       "1  Missing #parkrun but now that we can go out 6-...      Tweet   \n",
       "2  Run report and results from virtual non-parkru...    Retweet   \n",
       "3  Run report and results from virtual non-parkru...    Retweet   \n",
       "4  Run report and results from virtual non-parkru...      Tweet   \n",
       "5  No #parkrun again tomorrow. Have a lie-in, sta...    Retweet   \n",
       "6  In times like this we need to dig deep within ...      Tweet   \n",
       "7  Love my new #parkrun top even though I wore it...      Tweet   \n",
       "8  17th run since #lockdown not run for 18 months...    Retweet   \n",
       "9  Just caught up with @parkrunUKs interview with...    Retweet   \n",
       "\n",
       "       user_handle            user_location  \n",
       "0     tonyjamesrun      North West, England  \n",
       "1    Diane80499280             South Africa  \n",
       "2         mbrosdav                           \n",
       "3      CountySligo        Co Sligo, Ireland  \n",
       "4     sligoparkrun           Sligo, Ireland  \n",
       "5       tarynmonks                           \n",
       "6       Yiannis_83      Canterbury, England  \n",
       "7     Rlou31752486  England, United Kingdom  \n",
       "8    andrew_cawood                           \n",
       "9  tomwilliams1974                Harrogate  "
      ]
     },
     "execution_count": 51,
     "metadata": {},
     "output_type": "execute_result"
    }
   ],
   "source": [
    "fname = 'parkrun_tweets_downloaded2020-05-09.pkl'\n",
    "\n",
    "tweets_df = read_pkl('data/'+fname)\n",
    "tweets_df.head(10)"
   ]
  },
  {
   "cell_type": "markdown",
   "metadata": {},
   "source": [
    "### Let's take a look at when people tweet about parkrun\n",
    "\n",
    "Unsurprisingly (even in lockdown)... it's mostly Saturday!"
   ]
  },
  {
   "cell_type": "code",
   "execution_count": 52,
   "metadata": {},
   "outputs": [
    {
     "name": "stdout",
     "output_type": "stream",
     "text": [
      "\n",
      "# Tweets by DAY OF WEEK\n"
     ]
    },
    {
     "data": {
      "image/png": "[encoded data removed]",
      "text/plain": [
       "<Figure size 432x288 with 1 Axes>"
      ]
     },
     "metadata": {
      "needs_background": "light"
     },
     "output_type": "display_data"
    }
   ],
   "source": [
    "#print('\\n# Tweets by DATE')\n",
    "#ax = tweets_df['datetime'].apply(lambda x : str(x.date())).value_counts().sort_index().plot.bar()\n",
    "\n",
    "print('\\n# Tweets by DAY OF WEEK')\n",
    "ax = tweets_df['datetime'].apply(lambda x : str(x.weekday())).value_counts().sort_index().plot.bar()\n",
    "ax.set_xticklabels(['Mon','Tue','Wed','Thur','Fri','Sat','Sun'])\n",
    "\n",
    "plt.show()"
   ]
  },
  {
   "cell_type": "code",
   "execution_count": 53,
   "metadata": {},
   "outputs": [
    {
     "name": "stdout",
     "output_type": "stream",
     "text": [
      "\n",
      "# Tweets by TIME OF DAY\n"
     ]
    },
    {
     "data": {
      "image/png": "[encoded data removed]",
      "text/plain": [
       "<Figure size 432x288 with 1 Axes>"
      ]
     },
     "metadata": {
      "needs_background": "light"
     },
     "output_type": "display_data"
    }
   ],
   "source": [
    "print('\\n# Tweets by TIME OF DAY')\n",
    "\n",
    "tweets_df['datetime'].apply(lambda x : str(x.time())[0:2]).value_counts().sort_index().plot.bar()\n",
    "plt.show()"
   ]
  },
  {
   "cell_type": "markdown",
   "metadata": {},
   "source": [
    "### Who are the biggest #parkrun Tweeters this week?"
   ]
  },
  {
   "cell_type": "code",
   "execution_count": 54,
   "metadata": {},
   "outputs": [
    {
     "name": "stdout",
     "output_type": "stream",
     "text": [
      "\n",
      "# Tweets by USER this week (Top 10)\n"
     ]
    },
    {
     "data": {
      "image/png": "[encoded data removed]",
      "text/plain": [
       "<Figure size 432x288 with 1 Axes>"
      ]
     },
     "metadata": {
      "needs_background": "light"
     },
     "output_type": "display_data"
    }
   ],
   "source": [
    "print('\\n# Tweets by USER this week (Top 10)')\n",
    "\n",
    "tweets_df['user_handle'].value_counts()[0:10].plot.barh()\n",
    "plt.show()"
   ]
  },
  {
   "cell_type": "markdown",
   "metadata": {},
   "source": [
    "### Which hashtags were used most this week with #parkrun?"
   ]
  },
  {
   "cell_type": "code",
   "execution_count": 74,
   "metadata": {},
   "outputs": [
    {
     "data": {
      "image/png": "[encoded data removed]",
      "text/plain": [
       "<Figure size 576x288 with 1 Axes>"
      ]
     },
     "metadata": {
      "needs_background": "light"
     },
     "output_type": "display_data"
    }
   ],
   "source": [
    "def grab_hashtags(text):\n",
    "    \n",
    "    hashtags=[]\n",
    "    for word in text.split():\n",
    "        if word[0:1] == '#' and word.lower() != '#parkrun':\n",
    "            hashtags.append(word)\n",
    "    \n",
    "    return hashtags\n",
    "\n",
    "tweets_df['hashtags'] = tweets_df['text'].apply(lambda x: grab_hashtags(x))\n",
    "\n",
    "hashtag_freq = nltk.FreqDist(pd.Series([hashtag for row in tweets_df['hashtags'] for hashtag in row]).values)\n",
    "plt.figure(figsize=(8, 4))\n",
    "hashtag_freq.plot(10, cumulative=False, title='Top 10 hashtags used with #parkrun this week')\n",
    "plt.show()"
   ]
  },
  {
   "cell_type": "markdown",
   "metadata": {},
   "source": [
    "## Natural language processing"
   ]
  },
  {
   "cell_type": "markdown",
   "metadata": {},
   "source": [
    "Process the tweet text content for topic modelling.\n",
    "\n",
    "Using spaCy, wordsegment and - if stemming - nltk\n",
    "\n",
    "* **Segment hashtags and twitter handles**\n",
    "\n",
    "* **Remove special characters, punctuation, spaces, integer tokens and web addresses**\n",
    "\n",
    "* **Lemmatize** (group together inflected forms of a word so they can be analysed as a single item)\n",
    "\n",
    "* **Remove stopwords** (eg is, the, a - so that more focus can be given to those words which define the meaning of the text)\n",
    "\n",
    "* *Stem (reduce words to root form)*"
   ]
  },
  {
   "cell_type": "markdown",
   "metadata": {},
   "source": [
    "#### Function to process (clean and tokenize) the text for topic modelling"
   ]
  },
  {
   "cell_type": "code",
   "execution_count": 75,
   "metadata": {},
   "outputs": [],
   "source": [
    "def NLP_prep(text):\n",
    "    \n",
    "    # make lowercase, remove newlines\n",
    "    text = text.lower().replace('\\n',' ')    \n",
    "    \n",
    "    firstfilt=[]\n",
    "    for word in text.split():\n",
    "        # separate handles and hashtags into individual words (and in doing so remove #/@)\n",
    "        if word[0:1] == '#' or word[0:1] == '@' :\n",
    "            firstfilt.append(' '.join(wordsegment.segment(word)))\n",
    "        else :\n",
    "            # ignore web addresses (or at least those beginning http or www)\n",
    "            if word[0:4] != 'http' and word[0:3] != 'www' and not re.search('androidappwhatsapp', word):\n",
    "                firstfilt.append(word)\n",
    "    text = ' '.join(firstfilt)\n",
    "    \n",
    "    # remove digits and various symbols\n",
    "    text = re.sub('[0-9_:;.,()%$~!?\\+=><^`\\*]+', '', text)\n",
    "    \n",
    "    # replace forward slash and amphersand\n",
    "    text = text.replace('/',' ').replace('&',' ').replace('&amp;', ' ')\n",
    "    \n",
    "    doc = nlp(text)  # Using spaCy\n",
    "    tokens = []\n",
    "    filtered_tokens = []\n",
    "    for token in doc:\n",
    "        if not token.is_punct | token.is_space : # ignore punctuation and spaces\n",
    "            \n",
    "            # LEMMATIZE\n",
    "            tokens.append(token.lemma_ if token.lemma_ != '-PRON-' else token.lower_)\n",
    "\n",
    "    for token in tokens:\n",
    "        lexeme = nlp.vocab[token]\n",
    "        # ignore STOPWORDS (incl. topic-specific stopwords, like park run uk) and words less than 3 characters\n",
    "        if lexeme.is_stop == False and token not in ['park','run','parkrun','uk'] and len(token) > 2 :\n",
    "            filtered_tokens.append(token)\n",
    "            #filtered_tokens.append(stemmer.stem(token)) # Take stem of words using nltk\n",
    "                    \n",
    "    return filtered_tokens"
   ]
  },
  {
   "cell_type": "markdown",
   "metadata": {},
   "source": [
    "Example of processing a tweet"
   ]
  },
  {
   "cell_type": "code",
   "execution_count": 76,
   "metadata": {},
   "outputs": [
    {
     "name": "stdout",
     "output_type": "stream",
     "text": [
      "BEFORE preprocessing:\n",
      "================\n",
      "\n",
      "Missing #parkrun but now that we can go out 6-9 every Saturday now I'll wear a milestone tshirt and go walking. Reminding myself and others we WILL be back https://t.co/TmXR3REv2B \n",
      "\n",
      "AFTER preprocessing:\n",
      "================\n",
      "\n",
      "miss saturday wear milestone tshirt walk remind\n"
     ]
    }
   ],
   "source": [
    "text = tweets_df['text'].iloc[1]\n",
    "print('BEFORE preprocessing:\\n================\\n')\n",
    "print(text,'\\n')\n",
    "\n",
    "filtered_tokens = NLP_prep(text)\n",
    "print('AFTER preprocessing:\\n================\\n')\n",
    "print(' '.join(filtered_tokens))"
   ]
  },
  {
   "cell_type": "markdown",
   "metadata": {},
   "source": [
    "#### Clean and tokenize the tweets"
   ]
  },
  {
   "cell_type": "code",
   "execution_count": 77,
   "metadata": {},
   "outputs": [
    {
     "data": {
      "text/html": [
       "<div>\n",
       "<style scoped>\n",
       "    .dataframe tbody tr th:only-of-type {\n",
       "        vertical-align: middle;\n",
       "    }\n",
       "\n",
       "    .dataframe tbody tr th {\n",
       "        vertical-align: top;\n",
       "    }\n",
       "\n",
       "    .dataframe thead th {\n",
       "        text-align: right;\n",
       "    }\n",
       "</style>\n",
       "<table border=\"1\" class=\"dataframe\">\n",
       "  <thead>\n",
       "    <tr style=\"text-align: right;\">\n",
       "      <th></th>\n",
       "      <th>datetime</th>\n",
       "      <th>location</th>\n",
       "      <th>text</th>\n",
       "      <th>tweet_type</th>\n",
       "      <th>user_handle</th>\n",
       "      <th>user_location</th>\n",
       "      <th>processed text</th>\n",
       "      <th>hashtags</th>\n",
       "    </tr>\n",
       "  </thead>\n",
       "  <tbody>\n",
       "    <tr>\n",
       "      <th>0</th>\n",
       "      <td>2020-05-09 17:55:25</td>\n",
       "      <td></td>\n",
       "      <td>Not your everyday running obstruction  #tonyja...</td>\n",
       "      <td>Tweet</td>\n",
       "      <td>tonyjamesrun</td>\n",
       "      <td>North West, England</td>\n",
       "      <td>[everyday, obstruction, tony, james, london, m...</td>\n",
       "      <td>[#tonyjamesrunning, #londonmarathon, #marathon...</td>\n",
       "    </tr>\n",
       "    <tr>\n",
       "      <th>1</th>\n",
       "      <td>2020-05-09 17:53:50</td>\n",
       "      <td></td>\n",
       "      <td>Missing #parkrun but now that we can go out 6-...</td>\n",
       "      <td>Tweet</td>\n",
       "      <td>Diane80499280</td>\n",
       "      <td>South Africa</td>\n",
       "      <td>[miss, saturday, wear, milestone, tshirt, walk...</td>\n",
       "      <td>[]</td>\n",
       "    </tr>\n",
       "    <tr>\n",
       "      <th>4</th>\n",
       "      <td>2020-05-09 17:28:28</td>\n",
       "      <td></td>\n",
       "      <td>Run report and results from virtual non-parkru...</td>\n",
       "      <td>Tweet</td>\n",
       "      <td>sligoparkrun</td>\n",
       "      <td>Sligo, Ireland</td>\n",
       "      <td>[report, result, virtual, non, -may-, news, sl...</td>\n",
       "      <td>[#4]</td>\n",
       "    </tr>\n",
       "    <tr>\n",
       "      <th>6</th>\n",
       "      <td>2020-05-09 17:24:15</td>\n",
       "      <td>Canterbury, United Kingdom</td>\n",
       "      <td>In times like this we need to dig deep within ...</td>\n",
       "      <td>Tweet</td>\n",
       "      <td>Yiannis_83</td>\n",
       "      <td>Canterbury, England</td>\n",
       "      <td>[time, like, need, dig, deep, strength, order,...</td>\n",
       "      <td>[#uktrichat, #ukrunchat, #runchat]</td>\n",
       "    </tr>\n",
       "    <tr>\n",
       "      <th>7</th>\n",
       "      <td>2020-05-09 16:37:33</td>\n",
       "      <td></td>\n",
       "      <td>Love my new #parkrun top even though I wore it...</td>\n",
       "      <td>Tweet</td>\n",
       "      <td>Rlou31752486</td>\n",
       "      <td>England, United Kingdom</td>\n",
       "      <td>[love, new, wear, cycle, today, terrible, phot...</td>\n",
       "      <td>[]</td>\n",
       "    </tr>\n",
       "    <tr>\n",
       "      <th>10</th>\n",
       "      <td>2020-05-09 16:24:02</td>\n",
       "      <td></td>\n",
       "      <td>Definitely NOT leading by example. Set off ful...</td>\n",
       "      <td>Tweet</td>\n",
       "      <td>runningjo10k</td>\n",
       "      <td></td>\n",
       "      <td>[definitely, lead, example, set, overconfidenc...</td>\n",
       "      <td>[]</td>\n",
       "    </tr>\n",
       "    <tr>\n",
       "      <th>11</th>\n",
       "      <td>2020-05-09 16:21:13</td>\n",
       "      <td></td>\n",
       "      <td>I miss my parkrun family \\n#parkrun #COVID19</td>\n",
       "      <td>Tweet</td>\n",
       "      <td>alexhorgsn_alex</td>\n",
       "      <td></td>\n",
       "      <td>[miss, family, covid]</td>\n",
       "      <td>[#COVID19]</td>\n",
       "    </tr>\n",
       "    <tr>\n",
       "      <th>13</th>\n",
       "      <td>2020-05-09 16:13:08</td>\n",
       "      <td>Liverpool, United Kingdom</td>\n",
       "      <td>Another event another rainbow of tops  Purple ...</td>\n",
       "      <td>Tweet</td>\n",
       "      <td>crosbyparkrun1</td>\n",
       "      <td>Crosby, England</td>\n",
       "      <td>[event, rainbow, purple, hard, find, week, pho...</td>\n",
       "      <td>[#crosbyparkrun, #crosby, #parkrunuk, #lovepar...</td>\n",
       "    </tr>\n",
       "    <tr>\n",
       "      <th>15</th>\n",
       "      <td>2020-05-09 16:03:20</td>\n",
       "      <td></td>\n",
       "      <td>Had to avoid a cow blocking my path on my @par...</td>\n",
       "      <td>Tweet</td>\n",
       "      <td>parkrunrocks</td>\n",
       "      <td></td>\n",
       "      <td>[avoid, cow, block, path, rock, today, normall...</td>\n",
       "      <td>[#missing]</td>\n",
       "    </tr>\n",
       "    <tr>\n",
       "      <th>16</th>\n",
       "      <td>2020-05-09 15:58:29</td>\n",
       "      <td></td>\n",
       "      <td>Great to see parkrunners starting to use #park...</td>\n",
       "      <td>Tweet</td>\n",
       "      <td>parkrunrocks</td>\n",
       "      <td></td>\n",
       "      <td>[great, parkrunner, start, use, rock, miss]</td>\n",
       "      <td>[#parkrunrocks, #missing]</td>\n",
       "    </tr>\n",
       "  </tbody>\n",
       "</table>\n",
       "</div>"
      ],
      "text/plain": [
       "              datetime                    location  \\\n",
       "0  2020-05-09 17:55:25                               \n",
       "1  2020-05-09 17:53:50                               \n",
       "4  2020-05-09 17:28:28                               \n",
       "6  2020-05-09 17:24:15  Canterbury, United Kingdom   \n",
       "7  2020-05-09 16:37:33                               \n",
       "10 2020-05-09 16:24:02                               \n",
       "11 2020-05-09 16:21:13                               \n",
       "13 2020-05-09 16:13:08   Liverpool, United Kingdom   \n",
       "15 2020-05-09 16:03:20                               \n",
       "16 2020-05-09 15:58:29                               \n",
       "\n",
       "                                                 text tweet_type  \\\n",
       "0   Not your everyday running obstruction  #tonyja...      Tweet   \n",
       "1   Missing #parkrun but now that we can go out 6-...      Tweet   \n",
       "4   Run report and results from virtual non-parkru...      Tweet   \n",
       "6   In times like this we need to dig deep within ...      Tweet   \n",
       "7   Love my new #parkrun top even though I wore it...      Tweet   \n",
       "10  Definitely NOT leading by example. Set off ful...      Tweet   \n",
       "11       I miss my parkrun family \\n#parkrun #COVID19      Tweet   \n",
       "13  Another event another rainbow of tops  Purple ...      Tweet   \n",
       "15  Had to avoid a cow blocking my path on my @par...      Tweet   \n",
       "16  Great to see parkrunners starting to use #park...      Tweet   \n",
       "\n",
       "        user_handle            user_location  \\\n",
       "0      tonyjamesrun      North West, England   \n",
       "1     Diane80499280             South Africa   \n",
       "4      sligoparkrun           Sligo, Ireland   \n",
       "6        Yiannis_83      Canterbury, England   \n",
       "7      Rlou31752486  England, United Kingdom   \n",
       "10     runningjo10k                            \n",
       "11  alexhorgsn_alex                            \n",
       "13   crosbyparkrun1          Crosby, England   \n",
       "15     parkrunrocks                            \n",
       "16     parkrunrocks                            \n",
       "\n",
       "                                       processed text  \\\n",
       "0   [everyday, obstruction, tony, james, london, m...   \n",
       "1   [miss, saturday, wear, milestone, tshirt, walk...   \n",
       "4   [report, result, virtual, non, -may-, news, sl...   \n",
       "6   [time, like, need, dig, deep, strength, order,...   \n",
       "7   [love, new, wear, cycle, today, terrible, phot...   \n",
       "10  [definitely, lead, example, set, overconfidenc...   \n",
       "11                              [miss, family, covid]   \n",
       "13  [event, rainbow, purple, hard, find, week, pho...   \n",
       "15  [avoid, cow, block, path, rock, today, normall...   \n",
       "16        [great, parkrunner, start, use, rock, miss]   \n",
       "\n",
       "                                             hashtags  \n",
       "0   [#tonyjamesrunning, #londonmarathon, #marathon...  \n",
       "1                                                  []  \n",
       "4                                                [#4]  \n",
       "6                  [#uktrichat, #ukrunchat, #runchat]  \n",
       "7                                                  []  \n",
       "10                                                 []  \n",
       "11                                         [#COVID19]  \n",
       "13  [#crosbyparkrun, #crosby, #parkrunuk, #lovepar...  \n",
       "15                                         [#missing]  \n",
       "16                          [#parkrunrocks, #missing]  "
      ]
     },
     "execution_count": 77,
     "metadata": {},
     "output_type": "execute_result"
    }
   ],
   "source": [
    "tweets_df['processed text'] = tweets_df['text'].apply(lambda x: NLP_prep(x))\n",
    "tweets_df[tweets_df['tweet_type'] == 'Tweet'].head(10) # just tweets"
   ]
  },
  {
   "cell_type": "markdown",
   "metadata": {},
   "source": [
    "### Take a look at simple word frequency distribution\n",
    "\n",
    "Looking here at Tweets *and* Retweets.\n",
    "\n",
    "To use tweets only, add following code to split dataframe into tweets df and retweets df.\n",
    "\n",
    "    # split dataframe into tweets df and retweets df\n",
    "    retweets_df = tweets_df[tweets_df['tweet_type'] == 'Retweet']\n",
    "    tweets_df = tweets_df[tweets_df['tweet_type'] == 'Tweet']"
   ]
  },
  {
   "cell_type": "code",
   "execution_count": 78,
   "metadata": {},
   "outputs": [
    {
     "data": {
      "image/png": "[encoded data removed]",
      "text/plain": [
       "<Figure size 576x288 with 1 Axes>"
      ]
     },
     "metadata": {
      "needs_background": "light"
     },
     "output_type": "display_data"
    }
   ],
   "source": [
    "# concatenate words from all tweets\n",
    "alltokens = [token for row in tweets_df['processed text'] for token in row]\n",
    "alltokens = pd.Series(alltokens)\n",
    "\n",
    "freq = nltk.FreqDist(alltokens.values)\n",
    "plt.figure(figsize=(8, 4))\n",
    "freq.plot(10, cumulative=False, title='Top 10 words in #parkrun tweets this week')\n",
    "plt.show()"
   ]
  },
  {
   "cell_type": "markdown",
   "metadata": {},
   "source": [
    "#### Lexical diversity\n",
    "\n",
    "(i.e. ratio of unique tokens to the total number of tokens)"
   ]
  },
  {
   "cell_type": "code",
   "execution_count": 79,
   "metadata": {},
   "outputs": [
    {
     "data": {
      "text/plain": [
       "0.22159870308018456"
      ]
     },
     "execution_count": 79,
     "metadata": {},
     "output_type": "execute_result"
    }
   ],
   "source": [
    "float(len(set(alltokens)))/float(len(alltokens))"
   ]
  },
  {
   "cell_type": "markdown",
   "metadata": {},
   "source": [
    "Words longer than 8 characters occuring more than 10 times"
   ]
  },
  {
   "cell_type": "code",
   "execution_count": 80,
   "metadata": {},
   "outputs": [
    {
     "data": {
      "text/plain": [
       "[('anniversary', 20),\n",
       " ('beautiful', 18),\n",
       " ('challenge', 36),\n",
       " ('community', 15),\n",
       " ('coronavirus', 12),\n",
       " ('distancing', 19),\n",
       " ('motivated', 12),\n",
       " ('motivation', 25),\n",
       " ('subscribe', 11),\n",
       " ('volunteer', 25),\n",
       " ('yesterday', 16)]"
      ]
     },
     "execution_count": 80,
     "metadata": {},
     "output_type": "execute_result"
    }
   ],
   "source": [
    "vocab = freq.keys()\n",
    "\n",
    "freqwords = [(w,freq[w]) for w in vocab if len(w) > 8 and freq[w] > 10]\n",
    "sorted(freqwords, key=lambda tup: tup[0])"
   ]
  },
  {
   "cell_type": "markdown",
   "metadata": {},
   "source": [
    "#### Most common parts of speech\n",
    "\n",
    "We see that #parkrun tweets contain many nouns (NN) and adjectives (JJ), and to a lesser extent verbs (VBP, VB) and adverbs (RB)"
   ]
  },
  {
   "cell_type": "code",
   "execution_count": 81,
   "metadata": {},
   "outputs": [
    {
     "data": {
      "text/plain": [
       "[('NN', 4352), ('JJ', 1761), ('VBP', 384), ('RB', 347), ('VB', 200)]"
      ]
     },
     "execution_count": 81,
     "metadata": {},
     "output_type": "execute_result"
    }
   ],
   "source": [
    "tag_fd = nltk.FreqDist(tag for (word, tag) in nltk.pos_tag(alltokens.values))\n",
    "tag_fd.most_common(5)"
   ]
  },
  {
   "cell_type": "markdown",
   "metadata": {},
   "source": [
    "## Topic Modelling\n",
    "\n",
    "Using Gensim's LDA (Latent Dirichlet Allocation) model."
   ]
  },
  {
   "cell_type": "markdown",
   "metadata": {},
   "source": [
    "#### Create bag of words"
   ]
  },
  {
   "cell_type": "code",
   "execution_count": 82,
   "metadata": {},
   "outputs": [],
   "source": [
    "dictionary = gensim.corpora.Dictionary(tweets_df['processed text'])\n",
    "\n",
    "## Filter out uncommon words - can only do this when have a lot of data\n",
    "#print('n words:',len(dictionary))\n",
    "#dictionary.filter_extremes(no_below=2, no_above=0.5)\n",
    "#print('n post-filter:',len(dictionary))\n",
    "\n",
    "# For each tweet create a dictionary of words and word freq\n",
    "bow_corpus = [dictionary.doc2bow(tweet) for tweet in tweets_df['processed text']]"
   ]
  },
  {
   "cell_type": "markdown",
   "metadata": {},
   "source": [
    "### Create LDA model\n",
    "\n",
    "Note this is computationally expensive if using a large number of tweets.\n",
    "\n",
    "Here we're only looking at a weeks-worth, so the topic modelling below is mainly for demo purposes (not enough data!)"
   ]
  },
  {
   "cell_type": "code",
   "execution_count": 126,
   "metadata": {},
   "outputs": [],
   "source": [
    "ncores = mp.cpu_count()-1 # use all but one core\n",
    "ntopics = 6\n",
    "#ntopics = 20"
   ]
  },
  {
   "cell_type": "code",
   "execution_count": 127,
   "metadata": {},
   "outputs": [],
   "source": [
    "lda_model = gensim.models.LdaMulticore(bow_corpus, num_topics=ntopics, id2word=dictionary,\n",
    "                                       passes=10, workers=ncores)"
   ]
  },
  {
   "cell_type": "code",
   "execution_count": 128,
   "metadata": {},
   "outputs": [
    {
     "name": "stdout",
     "output_type": "stream",
     "text": [
      "Topic: 0 \n",
      "Words: 0.028*\"chat\" + 0.026*\"love\" + 0.012*\"stay\" + 0.012*\"crosby\" + 0.011*\"new\" + 0.011*\"day\" + 0.011*\"today\" + 0.010*\"week\" + 0.010*\"channel\" + 0.008*\"great\"\n",
      "Topic: 1 \n",
      "Words: 0.045*\"chat\" + 0.021*\"marathon\" + 0.021*\"runner\" + 0.017*\"love\" + 0.013*\"day\" + 0.012*\"running\" + 0.012*\"new\" + 0.012*\"bike\" + 0.011*\"london\" + 0.010*\"swim\"\n",
      "Topic: 2 \n",
      "Words: 0.014*\"runner\" + 0.013*\"saturday\" + 0.012*\"week\" + 0.011*\"love\" + 0.010*\"day\" + 0.008*\"good\" + 0.008*\"challenge\" + 0.008*\"chat\" + 0.007*\"morning\" + 0.007*\"friend\"\n",
      "Topic: 3 \n",
      "Words: 0.027*\"morning\" + 0.018*\"day\" + 0.016*\"saturday\" + 0.016*\"virtual\" + 0.015*\"like\" + 0.015*\"chat\" + 0.015*\"love\" + 0.012*\"good\" + 0.011*\"miss\" + 0.011*\"feel\"\n",
      "Topic: 4 \n",
      "Words: 0.026*\"morning\" + 0.020*\"love\" + 0.020*\"miss\" + 0.014*\"crosby\" + 0.013*\"photo\" + 0.012*\"suffolk\" + 0.012*\"time\" + 0.011*\"month\" + 0.009*\"chat\" + 0.009*\"day\"\n",
      "Topic: 5 \n",
      "Words: 0.018*\"lockdown\" + 0.017*\"house\" + 0.015*\"bantock\" + 0.014*\"old\" + 0.012*\"blue\" + 0.010*\"love\" + 0.010*\"anniversary\" + 0.009*\"virtual\" + 0.008*\"cancel\" + 0.008*\"mark\"\n"
     ]
    }
   ],
   "source": [
    "for idx, topic in lda_model.print_topics(-1):\n",
    "    print('Topic: {} \\nWords: {}'.format(idx, topic))"
   ]
  },
  {
   "cell_type": "code",
   "execution_count": 129,
   "metadata": {},
   "outputs": [
    {
     "name": "stdout",
     "output_type": "stream",
     "text": [
      "Saved to models/parkrun_tweets_downloaded2020-05-09_LDAmodel.pkl\n"
     ]
    }
   ],
   "source": [
    "write_pkl('models/'+fname[:-4]+'_LDAmodel.pkl', lda_model)"
   ]
  },
  {
   "cell_type": "markdown",
   "metadata": {},
   "source": [
    "### Run analysis of tweets based on LDA model"
   ]
  },
  {
   "cell_type": "code",
   "execution_count": 130,
   "metadata": {},
   "outputs": [],
   "source": [
    "try :\n",
    "    lda_model\n",
    "except :\n",
    "    lda_model = read_pkl('models/'+fname[:-4]+'_LDAmodel.pkl')"
   ]
  },
  {
   "cell_type": "markdown",
   "metadata": {},
   "source": [
    "#### Identify best match topic for each twitter user"
   ]
  },
  {
   "cell_type": "code",
   "execution_count": 131,
   "metadata": {},
   "outputs": [],
   "source": [
    "topic_all = []\n",
    "score_all = []\n",
    "topic_l = {}\n",
    "score_l = {}\n",
    "for iname in tweets_df[\"user_handle\"].unique():\n",
    "    topic_l[iname] = []\n",
    "    score_l[iname] = []\n",
    "\n",
    "for itweet in np.arange(len(tweets_df)):\n",
    "    index_and_score = sorted(lda_model[bow_corpus[itweet]], key=lambda tup: -1*tup[1])[0]\n",
    "    topic_all.append(index_and_score[0])\n",
    "    score_all.append(index_and_score[1])\n",
    "    sender = tweets_df[\"user_handle\"].iloc[itweet]\n",
    "    topic_l[sender].append(index_and_score[0])\n",
    "    score_l[sender].append(index_and_score[1])"
   ]
  },
  {
   "cell_type": "code",
   "execution_count": 137,
   "metadata": {},
   "outputs": [],
   "source": [
    "## Mapping to sorted topics by frequency of appearence  \n",
    "hist,edges = np.histogram(topic_all, bins=ntopics, range=[0,ntopics], density=True)\n",
    "sorter = np.argsort(-hist)\n",
    "\n",
    "# Create topic labels in appropriate order\n",
    "topic_labels = {}\n",
    "for i in np.arange(ntopics):\n",
    "    words = lda_model.show_topic(i,6)\n",
    "    ii = sorter[i]\n",
    "    topic_labels[ii] = words[0][0]+\"/\"+words[1][0]+\"/\"+words[2][0]"
   ]
  },
  {
   "cell_type": "markdown",
   "metadata": {},
   "source": [
    "### Plot conversation topics"
   ]
  },
  {
   "cell_type": "code",
   "execution_count": 138,
   "metadata": {},
   "outputs": [],
   "source": [
    "#list(topic_l.keys()) # list user handles\n",
    "user_handle = 'crosbyparkrun1' # top tweeter this week!"
   ]
  },
  {
   "cell_type": "code",
   "execution_count": 143,
   "metadata": {},
   "outputs": [
    {
     "data": {
      "text/plain": [
       "<matplotlib.legend.Legend at 0x7f4ad5134208>"
      ]
     },
     "execution_count": 143,
     "metadata": {},
     "output_type": "execute_result"
    },
    {
     "data": {
      "image/png": "[encoded data removed]",
      "text/plain": [
       "<Figure size 576x576 with 1 Axes>"
      ]
     },
     "metadata": {
      "needs_background": "light"
     },
     "output_type": "display_data"
    }
   ],
   "source": [
    "hist_user,edges_user = np.histogram(topic_l[user_handle], bins=ntopics, range=[0,ntopics], density=True)\n",
    "            \n",
    "plt.figure(figsize=(8,8))\n",
    "#plt.subplot(121)\n",
    "plt.axis([0,0.5,-0.5,5.5])\n",
    "ind = [i for i in range(0,ntopics)]\n",
    "plt.barh(ind,hist[sorter],height=0.5,label=\"All #parkrun tweets\")\n",
    "plt.barh(sorter,hist_user,height=0.2,label=\"Tweets by \"+user_handle)\n",
    "plt.yticks(ind,\\\n",
    "    [topic_labels[0],topic_labels[1],topic_labels[2],topic_labels[3],topic_labels[4],\n",
    "    topic_labels[5]])\n",
    "plt.ylabel(\"Topic\")\n",
    "plt.xlabel(\"Frequency of Topic\")\n",
    "plt.title('Topics of #parkrun tweets in the last week')\n",
    "plt.legend(loc=1)"
   ]
  },
  {
   "cell_type": "code",
   "execution_count": null,
   "metadata": {},
   "outputs": [],
   "source": []
  }
 ],
 "metadata": {
  "kernelspec": {
   "display_name": "Python 3",
   "language": "python",
   "name": "python3"
  },
  "language_info": {
   "codemirror_mode": {
    "name": "ipython",
    "version": 3
   },
   "file_extension": ".py",
   "mimetype": "text/x-python",
   "name": "python",
   "nbconvert_exporter": "python",
   "pygments_lexer": "ipython3",
   "version": "3.7.3"
  }
 },
 "nbformat": 4,
 "nbformat_minor": 2
}
